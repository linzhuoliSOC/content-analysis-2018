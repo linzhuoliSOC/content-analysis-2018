{
 "cells": [
  {
   "cell_type": "code",
   "execution_count": 3,
   "metadata": {
    "collapsed": false
   },
   "outputs": [],
   "source": [
    "#Special module written for this class\n",
    "#This provides access to data and to helper functions from previous weeks\n",
    "#Make sure you update it before starting this notebook\n",
    "#import lucem_illud #pip install -U git+git://github.com/Computational-Content-Analysis-2018/lucem_illud.git\n",
    "\n",
    "#All these packages need to be installed from pip\n",
    "import gensim#For word2vec, etc\n",
    "import requests #For downloading our datasets\n",
    "import nltk #For stop words and stemmers\n",
    "import numpy as np #For arrays\n",
    "import pandas as pd\n",
    "import matplotlib.pyplot as plt #For graphics\n",
    "import seaborn #Makes the graphics look nicer\n",
    "import sklearn.metrics.pairwise #For cosine similarity\n",
    "import sklearn.manifold #For T-SNE\n",
    "import sklearn.decomposition #For PCA\n",
    "\n",
    "#gensim uses a couple of deprecated features\n",
    "#we can't do anything about them so lets ignore them \n",
    "import warnings\n",
    "warnings.filterwarnings(\"ignore\", category=DeprecationWarning) \n",
    "\n",
    "#This 'magic' command makes the plots work better\n",
    "#in the notebook, don't use it outside of a notebook.\n",
    "#Also you can ignore the warning\n",
    "%matplotlib inline\n",
    "\n",
    "import os #For looking through files\n",
    "import os.path #For managing file paths"
   ]
  },
  {
   "cell_type": "code",
   "execution_count": 230,
   "metadata": {
    "collapsed": false
   },
   "outputs": [
    {
     "data": {
      "text/plain": [
       "50002"
      ]
     },
     "execution_count": 230,
     "metadata": {},
     "output_type": "execute_result"
    }
   ],
   "source": [
    "rows = []\n",
    "c=0\n",
    "with open('./dpcq.txt','rb') as f:\n",
    "    for r in f:\n",
    "        if len(r)>5:\n",
    "            rows.append(r.decode('utf-8'))\n",
    "        c+=1\n",
    "        if c>100000:\n",
    "            break\n",
    "len(rows)"
   ]
  },
  {
   "cell_type": "code",
   "execution_count": 231,
   "metadata": {
    "collapsed": true
   },
   "outputs": [],
   "source": [
    "bookW2V = pd.DataFrame(rows,columns=['paragraph'])"
   ]
  },
  {
   "cell_type": "code",
   "execution_count": 232,
   "metadata": {
    "collapsed": false
   },
   "outputs": [
    {
     "data": {
      "text/html": [
       "<div>\n",
       "<table border=\"1\" class=\"dataframe\">\n",
       "  <thead>\n",
       "    <tr style=\"text-align: right;\">\n",
       "      <th></th>\n",
       "      <th>paragraph</th>\n",
       "    </tr>\n",
       "  </thead>\n",
       "  <tbody>\n",
       "    <tr>\n",
       "      <th>0</th>\n",
       "      <td>《斗破苍穹》天蚕土豆\\r\\n</td>\n",
       "    </tr>\n",
       "    <tr>\n",
       "      <th>1</th>\n",
       "      <td>严正声明：本书为丫丫小说网(www.shuyaya.com)的用户上传至其在本站的存储空间，...</td>\n",
       "    </tr>\n",
       "  </tbody>\n",
       "</table>\n",
       "</div>"
      ],
      "text/plain": [
       "                                           paragraph\n",
       "0                                     《斗破苍穹》天蚕土豆\\r\\n\n",
       "1  严正声明：本书为丫丫小说网(www.shuyaya.com)的用户上传至其在本站的存储空间，..."
      ]
     },
     "execution_count": 232,
     "metadata": {},
     "output_type": "execute_result"
    }
   ],
   "source": [
    "bookW2V.head(2)"
   ]
  },
  {
   "cell_type": "code",
   "execution_count": 233,
   "metadata": {
    "collapsed": false
   },
   "outputs": [],
   "source": [
    "import jieba\n",
    "from collections import defaultdict"
   ]
  },
  {
   "cell_type": "code",
   "execution_count": 234,
   "metadata": {
    "collapsed": true
   },
   "outputs": [],
   "source": [
    "stopwords ={}\n",
    "f = open('./chinese.stop', 'rb')\n",
    "for r in f:\n",
    "    stopwords[r.strip().decode('utf-8')]=1"
   ]
  },
  {
   "cell_type": "code",
   "execution_count": 235,
   "metadata": {
    "collapsed": true
   },
   "outputs": [],
   "source": [
    "w_dic = defaultdict(int)"
   ]
  },
  {
   "cell_type": "code",
   "execution_count": 236,
   "metadata": {
    "collapsed": false
   },
   "outputs": [],
   "source": [
    "tokenized = []\n",
    "for i in range(len(bookW2V)):\n",
    "    temp= []\n",
    "    for r in jieba.cut(bookW2V['paragraph'][i]):\n",
    "        w_dic[r]+=1\n",
    "        temp.append(r)\n",
    "    tokenized.append(temp)"
   ]
  },
  {
   "cell_type": "code",
   "execution_count": 237,
   "metadata": {
    "collapsed": false
   },
   "outputs": [
    {
     "data": {
      "text/plain": [
       "50002"
      ]
     },
     "execution_count": 237,
     "metadata": {},
     "output_type": "execute_result"
    }
   ],
   "source": [
    "len(tokenized)"
   ]
  },
  {
   "cell_type": "code",
   "execution_count": 240,
   "metadata": {
    "collapsed": false
   },
   "outputs": [
    {
     "data": {
      "text/plain": [
       "10.0"
      ]
     },
     "execution_count": 240,
     "metadata": {},
     "output_type": "execute_result"
    }
   ],
   "source": [
    "np.percentile(np.array(list(w_dic.values())),80)"
   ]
  },
  {
   "cell_type": "code",
   "execution_count": 268,
   "metadata": {
    "collapsed": false
   },
   "outputs": [],
   "source": [
    "new_tokenized = []\n",
    "for tk in tokenized:\n",
    "    temp = []\n",
    "    for t in tk:\n",
    "        if w_dic[t]>=10 and not t in stopwords and not t in ['\\n','\\r\\n',' '] and len(t)>0:\n",
    "            temp.append(t)\n",
    "    if len(temp)>1:\n",
    "        new_tokenized.append([temp])"
   ]
  },
  {
   "cell_type": "code",
   "execution_count": 269,
   "metadata": {
    "collapsed": false
   },
   "outputs": [
    {
     "data": {
      "text/plain": [
       "48179"
      ]
     },
     "execution_count": 269,
     "metadata": {},
     "output_type": "execute_result"
    }
   ],
   "source": [
    "len(new_tokenized)"
   ]
  },
  {
   "cell_type": "code",
   "execution_count": 270,
   "metadata": {
    "collapsed": false
   },
   "outputs": [],
   "source": [
    "bookW2V = pd.DataFrame(new_tokenized,columns=[\"30_ch_list_replace\"])"
   ]
  },
  {
   "cell_type": "code",
   "execution_count": 271,
   "metadata": {
    "collapsed": false
   },
   "outputs": [
    {
     "data": {
      "text/html": [
       "<div>\n",
       "<table border=\"1\" class=\"dataframe\">\n",
       "  <thead>\n",
       "    <tr style=\"text-align: right;\">\n",
       "      <th></th>\n",
       "      <th>30_ch_list_replace</th>\n",
       "    </tr>\n",
       "  </thead>\n",
       "  <tbody>\n",
       "    <tr>\n",
       "      <th>0</th>\n",
       "      <td>[斗破, 苍穹, 土豆]</td>\n",
       "    </tr>\n",
       "    <tr>\n",
       "      <th>1</th>\n",
       "      <td>[本书, 上传, 提供, 电子书, 免费, 下载, 关系]</td>\n",
       "    </tr>\n",
       "    <tr>\n",
       "      <th>2</th>\n",
       "      <td>[阅读, 18]</td>\n",
       "    </tr>\n",
       "    <tr>\n",
       "      <th>3</th>\n",
       "      <td>[陨落, 天才]</td>\n",
       "    </tr>\n",
       "    <tr>\n",
       "      <th>4</th>\n",
       "      <td>[测验, 魔, 石碑, 刺眼, 五个, 大字, 少年, 面, 无表情, 唇角, 一抹, 自嘲...</td>\n",
       "    </tr>\n",
       "    <tr>\n",
       "      <th>5</th>\n",
       "      <td>[萧炎, 三段, 级别, 低级, 测验, 魔, 石碑, 旁, 一位, 中年男子, 一眼, 显...</td>\n",
       "    </tr>\n",
       "    <tr>\n",
       "      <th>6</th>\n",
       "      <td>[中年男子, 话, 刚刚, 脱口, 便是, 不出意外, 人头, 汹涌, 广场, 上带, 一阵...</td>\n",
       "    </tr>\n",
       "    <tr>\n",
       "      <th>7</th>\n",
       "      <td>[三段, 不出, 所料, 天才, 一年]</td>\n",
       "    </tr>\n",
       "    <tr>\n",
       "      <th>8</th>\n",
       "      <td>[废物, 家族, 脸]</td>\n",
       "    </tr>\n",
       "    <tr>\n",
       "      <th>9</th>\n",
       "      <td>[族长, 父亲, 废物, 早就, 驱赶, 出, 家族, 机会, 家族, 中]</td>\n",
       "    </tr>\n",
       "    <tr>\n",
       "      <th>10</th>\n",
       "      <td>[乌坦城, 成, 模样]</td>\n",
       "    </tr>\n",
       "    <tr>\n",
       "      <th>11</th>\n",
       "      <td>[做, 惹, …]</td>\n",
       "    </tr>\n",
       "    <tr>\n",
       "      <th>12</th>\n",
       "      <td>[传来, 不屑, 嘲笑, 惋惜, 轻叹, 落, 木桩, 原地, 少年, 耳, 中, 一根, ...</td>\n",
       "    </tr>\n",
       "    <tr>\n",
       "      <th>13</th>\n",
       "      <td>[少年, 缓缓, 抬起头来, 露出, 一张, 清秀, 稚嫩, 脸庞, 漆黑, 眸子, 嘲讽,...</td>\n",
       "    </tr>\n",
       "    <tr>\n",
       "      <th>14</th>\n",
       "      <td>[刻薄, 势力, 是因为, 三年, 前, 面前, 露出, 笑容, 想要, 回去, …, 苦涩...</td>\n",
       "    </tr>\n",
       "    <tr>\n",
       "      <th>15</th>\n",
       "      <td>[听, 测验, 喊声, 一名, 少女, 快速, 人群, 中, 跑, 出, 少女, 刚刚, 出...</td>\n",
       "    </tr>\n",
       "    <tr>\n",
       "      <th>16</th>\n",
       "      <td>[少女, 年龄, 十四, 算不上, 那张, 小脸, 却是, 蕴含着, 淡淡的, 妩媚, 清纯...</td>\n",
       "    </tr>\n",
       "    <tr>\n",
       "      <th>17</th>\n",
       "      <td>[少女, 快步, 上前, 小手, 轻车熟路, 触摸, 漆黑, 魔, 石碑, 缓缓, 闭上眼睛...</td>\n",
       "    </tr>\n",
       "    <tr>\n",
       "      <th>18</th>\n",
       "      <td>[少女, 闭眼, 片刻, 漆黑, 魔, 石碑, 之上, 光芒, …]</td>\n",
       "    </tr>\n",
       "    <tr>\n",
       "      <th>19</th>\n",
       "      <td>[斗之气, 七段]</td>\n",
       "    </tr>\n",
       "  </tbody>\n",
       "</table>\n",
       "</div>"
      ],
      "text/plain": [
       "                                   30_ch_list_replace\n",
       "0                                        [斗破, 苍穹, 土豆]\n",
       "1                       [本书, 上传, 提供, 电子书, 免费, 下载, 关系]\n",
       "2                                            [阅读, 18]\n",
       "3                                            [陨落, 天才]\n",
       "4   [测验, 魔, 石碑, 刺眼, 五个, 大字, 少年, 面, 无表情, 唇角, 一抹, 自嘲...\n",
       "5   [萧炎, 三段, 级别, 低级, 测验, 魔, 石碑, 旁, 一位, 中年男子, 一眼, 显...\n",
       "6   [中年男子, 话, 刚刚, 脱口, 便是, 不出意外, 人头, 汹涌, 广场, 上带, 一阵...\n",
       "7                                [三段, 不出, 所料, 天才, 一年]\n",
       "8                                         [废物, 家族, 脸]\n",
       "9              [族长, 父亲, 废物, 早就, 驱赶, 出, 家族, 机会, 家族, 中]\n",
       "10                                       [乌坦城, 成, 模样]\n",
       "11                                          [做, 惹, …]\n",
       "12  [传来, 不屑, 嘲笑, 惋惜, 轻叹, 落, 木桩, 原地, 少年, 耳, 中, 一根, ...\n",
       "13  [少年, 缓缓, 抬起头来, 露出, 一张, 清秀, 稚嫩, 脸庞, 漆黑, 眸子, 嘲讽,...\n",
       "14  [刻薄, 势力, 是因为, 三年, 前, 面前, 露出, 笑容, 想要, 回去, …, 苦涩...\n",
       "15  [听, 测验, 喊声, 一名, 少女, 快速, 人群, 中, 跑, 出, 少女, 刚刚, 出...\n",
       "16  [少女, 年龄, 十四, 算不上, 那张, 小脸, 却是, 蕴含着, 淡淡的, 妩媚, 清纯...\n",
       "17  [少女, 快步, 上前, 小手, 轻车熟路, 触摸, 漆黑, 魔, 石碑, 缓缓, 闭上眼睛...\n",
       "18                 [少女, 闭眼, 片刻, 漆黑, 魔, 石碑, 之上, 光芒, …]\n",
       "19                                          [斗之气, 七段]"
      ]
     },
     "execution_count": 271,
     "metadata": {},
     "output_type": "execute_result"
    }
   ],
   "source": [
    "bookW2V.head(20)"
   ]
  },
  {
   "cell_type": "code",
   "execution_count": 280,
   "metadata": {
    "collapsed": true
   },
   "outputs": [],
   "source": [
    "bookW2V2 = pd.DataFrame(sorted(bookW2V.values),columns=bookW2V.columns)"
   ]
  },
  {
   "cell_type": "code",
   "execution_count": 298,
   "metadata": {
    "collapsed": false
   },
   "outputs": [
    {
     "data": {
      "text/html": [
       "<div>\n",
       "<table border=\"1\" class=\"dataframe\">\n",
       "  <thead>\n",
       "    <tr style=\"text-align: right;\">\n",
       "      <th></th>\n",
       "      <th>30_ch_list_replace</th>\n",
       "    </tr>\n",
       "  </thead>\n",
       "  <tbody>\n",
       "    <tr>\n",
       "      <th>0</th>\n",
       "      <td>[!, !, !]</td>\n",
       "    </tr>\n",
       "    <tr>\n",
       "      <th>1</th>\n",
       "      <td>[!, 一名, 大汉, 恭声, 应道, 飞快, 转身, 坊, 市, 内部, 跑]</td>\n",
       "    </tr>\n",
       "    <tr>\n",
       "      <th>2</th>\n",
       "      <td>[!, 一脚, !]</td>\n",
       "    </tr>\n",
       "    <tr>\n",
       "      <th>3</th>\n",
       "      <td>[!, 云岚宗, 追杀, 出, 加玛, 帝国, 没想到, 这才, 短短, 三年, 时间, 强...</td>\n",
       "    </tr>\n",
       "    <tr>\n",
       "      <th>4</th>\n",
       "      <td>[!, 厅, 之中, 一名, 青衣, 老者, 脸色, 一沉, 道, 家族, 情况, 家族, ...</td>\n",
       "    </tr>\n",
       "    <tr>\n",
       "      <th>5</th>\n",
       "      <td>[!, 听, 响起, 耳, 刺耳, 声音, |, 脸色, 惨白, 炎利, 抬头, 道]</td>\n",
       "    </tr>\n",
       "    <tr>\n",
       "      <th>6</th>\n",
       "      <td>[!, 噗, 两道, 锁链, 暴射, 出, 众多, 毒宗, 强者, 惊骇, 急忙, 闪避, ...</td>\n",
       "    </tr>\n",
       "    <tr>\n",
       "      <th>7</th>\n",
       "      <td>[!, 地魔, 老鬼, 冲着, 小医仙, 冷笑, 道]</td>\n",
       "    </tr>\n",
       "    <tr>\n",
       "      <th>8</th>\n",
       "      <td>[!, 多谢, 说, 份, 萧炎, 自然, 不好, 迟疑, 点, 点头, 医仙, 拱手, 笑...</td>\n",
       "    </tr>\n",
       "    <tr>\n",
       "      <th>9</th>\n",
       "      <td>[!, 应, 喝, 旋即, 起身, 缓缓, 退出, 房间]</td>\n",
       "    </tr>\n",
       "    <tr>\n",
       "      <th>10</th>\n",
       "      <td>[!, 激烈, 对撞, 令得, 萧炎, 喉咙, 间, 传出, 低低的, 闷, 哼声, 旋即,...</td>\n",
       "    </tr>\n",
       "    <tr>\n",
       "      <th>11</th>\n",
       "      <td>[!, 紫研, 重重的, 点, 点, 脑袋, 旋即, 十指, 微微, 骨头, 间, 爆发, ...</td>\n",
       "    </tr>\n",
       "    <tr>\n",
       "      <th>12</th>\n",
       "      <td>[!, 老夫, 堂堂, 一名, 六品, 炼, 药师, 炼制, 丹药, 小子, 差, 闻言, ...</td>\n",
       "    </tr>\n",
       "    <tr>\n",
       "      <th>13</th>\n",
       "      <td>[\", !, f, !]</td>\n",
       "    </tr>\n",
       "    <tr>\n",
       "      <th>14</th>\n",
       "      <td>[\", 一道, 苦涩, 之意, 甚浓, 叹息声, 缓缓, 桀, 嘀, 中吐出, 颓丧, 挥,...</td>\n",
       "    </tr>\n",
       "    <tr>\n",
       "      <th>15</th>\n",
       "      <td>[\", 三年, 萧炎, 淡淡, 一笑, 第一个, 三年, 纳兰, 嫣然, 退婚, 第二个, ...</td>\n",
       "    </tr>\n",
       "    <tr>\n",
       "      <th>16</th>\n",
       "      <td>[\", 事实, 宗主, 不信, 询问, 两人, 亲眼所见, 此事, 发誓, 云, 棱, 苦笑...</td>\n",
       "    </tr>\n",
       "    <tr>\n",
       "      <th>17</th>\n",
       "      <td>[\", 慕兰, 二老, 气, 极, 脸色, 涨, 紫, 真, 动手]</td>\n",
       "    </tr>\n",
       "    <tr>\n",
       "      <th>18</th>\n",
       "      <td>[\", 永远, 地方, 半分, 半点, 解救, 云山, 阴冷, 一笑, 话语, 不用, 隐瞒...</td>\n",
       "    </tr>\n",
       "    <tr>\n",
       "      <th>19</th>\n",
       "      <td>[\", 那事, 真, \", 络, 做, 红唇, 颢, 抖, 云韵, 目光, 转向, 云]</td>\n",
       "    </tr>\n",
       "  </tbody>\n",
       "</table>\n",
       "</div>"
      ],
      "text/plain": [
       "                                   30_ch_list_replace\n",
       "0                                           [!, !, !]\n",
       "1            [!, 一名, 大汉, 恭声, 应道, 飞快, 转身, 坊, 市, 内部, 跑]\n",
       "2                                          [!, 一脚, !]\n",
       "3   [!, 云岚宗, 追杀, 出, 加玛, 帝国, 没想到, 这才, 短短, 三年, 时间, 强...\n",
       "4   [!, 厅, 之中, 一名, 青衣, 老者, 脸色, 一沉, 道, 家族, 情况, 家族, ...\n",
       "5         [!, 听, 响起, 耳, 刺耳, 声音, |, 脸色, 惨白, 炎利, 抬头, 道]\n",
       "6   [!, 噗, 两道, 锁链, 暴射, 出, 众多, 毒宗, 强者, 惊骇, 急忙, 闪避, ...\n",
       "7                         [!, 地魔, 老鬼, 冲着, 小医仙, 冷笑, 道]\n",
       "8   [!, 多谢, 说, 份, 萧炎, 自然, 不好, 迟疑, 点, 点头, 医仙, 拱手, 笑...\n",
       "9                       [!, 应, 喝, 旋即, 起身, 缓缓, 退出, 房间]\n",
       "10  [!, 激烈, 对撞, 令得, 萧炎, 喉咙, 间, 传出, 低低的, 闷, 哼声, 旋即,...\n",
       "11  [!, 紫研, 重重的, 点, 点, 脑袋, 旋即, 十指, 微微, 骨头, 间, 爆发, ...\n",
       "12  [!, 老夫, 堂堂, 一名, 六品, 炼, 药师, 炼制, 丹药, 小子, 差, 闻言, ...\n",
       "13                                       [\", !, f, !]\n",
       "14  [\", 一道, 苦涩, 之意, 甚浓, 叹息声, 缓缓, 桀, 嘀, 中吐出, 颓丧, 挥,...\n",
       "15  [\", 三年, 萧炎, 淡淡, 一笑, 第一个, 三年, 纳兰, 嫣然, 退婚, 第二个, ...\n",
       "16  [\", 事实, 宗主, 不信, 询问, 两人, 亲眼所见, 此事, 发誓, 云, 棱, 苦笑...\n",
       "17                 [\", 慕兰, 二老, 气, 极, 脸色, 涨, 紫, 真, 动手]\n",
       "18  [\", 永远, 地方, 半分, 半点, 解救, 云山, 阴冷, 一笑, 话语, 不用, 隐瞒...\n",
       "19       [\", 那事, 真, \", 络, 做, 红唇, 颢, 抖, 云韵, 目光, 转向, 云]"
      ]
     },
     "execution_count": 298,
     "metadata": {},
     "output_type": "execute_result"
    }
   ],
   "source": [
    "bookW2V2.head(20)"
   ]
  },
  {
   "cell_type": "code",
   "execution_count": 299,
   "metadata": {
    "collapsed": true
   },
   "outputs": [],
   "source": [
    "bookW2V_model2 = gensim.models.word2vec.Word2Vec(bookW2V2['30_ch_list_replace'],hs=0,alpha=0.05,iter=5,size=100)"
   ]
  },
  {
   "cell_type": "code",
   "execution_count": 300,
   "metadata": {
    "collapsed": false
   },
   "outputs": [],
   "source": [
    "bookW2V_model = gensim.models.word2vec.Word2Vec(bookW2V['30_ch_list_replace'],hs=0,alpha=0.05,iter=5,size=100)"
   ]
  },
  {
   "cell_type": "code",
   "execution_count": 301,
   "metadata": {
    "collapsed": false
   },
   "outputs": [
    {
     "data": {
      "text/plain": [
       "(9724, 9724)"
      ]
     },
     "execution_count": 301,
     "metadata": {},
     "output_type": "execute_result"
    }
   ],
   "source": [
    "len(bookW2V_model.wv.syn0),len(bookW2V_model2.wv.syn0)"
   ]
  },
  {
   "cell_type": "code",
   "execution_count": 305,
   "metadata": {
    "collapsed": false
   },
   "outputs": [
    {
     "data": {
      "text/plain": [
       "('脸庞', '脸庞')"
      ]
     },
     "execution_count": 305,
     "metadata": {},
     "output_type": "execute_result"
    }
   ],
   "source": [
    "ind=29\n",
    "bookW2V_model.wv.index2word[ind],bookW2V_model2.wv.index2word[ind]"
   ]
  },
  {
   "cell_type": "code",
   "execution_count": 306,
   "metadata": {
    "collapsed": false
   },
   "outputs": [
    {
     "data": {
      "text/plain": [
       "[('面庞', 0.7906191349029541),\n",
       " ('脸上', 0.7020155191421509),\n",
       " ('面色', 0.6648739576339722),\n",
       " ('俏脸', 0.6605743169784546),\n",
       " ('脸颊', 0.6591252088546753),\n",
       " ('面孔', 0.6519913673400879),\n",
       " ('嘴角', 0.624454915523529),\n",
       " ('小脸', 0.6230961084365845),\n",
       " ('脸色', 0.6168925762176514),\n",
       " ('一脸', 0.6124627590179443),\n",
       " ('脸', 0.5763064026832581),\n",
       " ('面容', 0.5725414752960205),\n",
       " ('老脸', 0.5719617605209351),\n",
       " ('满脸', 0.5552536249160767),\n",
       " ('面露', 0.5443519353866577)]"
      ]
     },
     "execution_count": 306,
     "metadata": {},
     "output_type": "execute_result"
    }
   ],
   "source": [
    "bookW2V_model2.most_similar('脸庞', topn= 15)"
   ]
  },
  {
   "cell_type": "code",
   "execution_count": 307,
   "metadata": {
    "collapsed": false
   },
   "outputs": [
    {
     "data": {
      "text/plain": [
       "[('面庞', 0.7890247106552124),\n",
       " ('俏脸', 0.7154985666275024),\n",
       " ('脸颊', 0.7108414769172668),\n",
       " ('面色', 0.6849466562271118),\n",
       " ('脸上', 0.6796271204948425),\n",
       " ('嘴角', 0.6442400813102722),\n",
       " ('面孔', 0.6413440108299255),\n",
       " ('小脸', 0.6400207281112671),\n",
       " ('脸色', 0.6189929246902466),\n",
       " ('眼神', 0.5917035937309265),\n",
       " ('脸', 0.5907431840896606),\n",
       " ('一脸', 0.5898550152778625),\n",
       " ('老脸', 0.5847097635269165),\n",
       " ('面容', 0.5536115765571594),\n",
       " ('面目', 0.543169379234314)]"
      ]
     },
     "execution_count": 307,
     "metadata": {},
     "output_type": "execute_result"
    }
   ],
   "source": [
    "bookW2V_model.most_similar('脸庞', topn= 15)"
   ]
  },
  {
   "cell_type": "code",
   "execution_count": 309,
   "metadata": {
    "collapsed": false
   },
   "outputs": [
    {
     "name": "stdout",
     "output_type": "stream",
     "text": [
      "Done epoch 1\n",
      "Done epoch 2\n",
      "Done epoch 3\n",
      "Done epoch 4\n",
      "Done epoch 5\n",
      "Done epoch 6\n",
      "Done epoch 7\n",
      "Done epoch 8\n",
      "Done epoch 9\n",
      "Done epoch 10\n",
      "Done epoch 11\n",
      "Done epoch 12\n",
      "Done epoch 13\n",
      "Done epoch 14\n",
      "Done epoch 15\n",
      "Done epoch 16\n",
      "Done epoch 17\n",
      "Done epoch 18\n",
      "Done epoch 19\n",
      "Done epoch 20\n"
     ]
    },
    {
     "data": {
      "image/png": "[encoded data removed]",
      "text/plain": [
       "<matplotlib.figure.Figure at 0x1a3203d710>"
      ]
     },
     "metadata": {},
     "output_type": "display_data"
    }
   ],
   "source": [
    "losses=[]\n",
    "bookW2V_loss = gensim.models.word2vec.Word2Vec(size = 50, #dimensions\n",
    "                                               alpha=0.5,\n",
    "                                               window=5,\n",
    "                                               min_count=5,\n",
    "                                               hs=0,  #hierarchical softmax toggle\n",
    "                                               compute_loss = True)\n",
    "# bookW2V_loss.build_vocab(bookDF_ch[\"30_ch_list_replace\"].sum())\n",
    "bookW2V_loss.build_vocab(bookW2V[\"30_ch_list_replace\"])\n",
    "for i in range(20):\n",
    "    bookW2V_loss.train(bookW2V[\"30_ch_list_replace\"], \n",
    "                       total_examples=bookW2V_loss.corpus_count, \n",
    "                       epochs=1)\n",
    "    losses.append(bookW2V_loss.get_latest_training_loss())#running_training_loss\n",
    "    print(\"Done epoch {}\".format(i + 1))\n",
    "\n",
    "lossesDF = pd.DataFrame({'loss' : losses, 'epoch' : range(len(losses))})\n",
    "lossesDF.plot(y = 'loss', x = 'epoch',logy=False, figsize=(15, 7))\n",
    "plt.show()"
   ]
  },
  {
   "cell_type": "code",
   "execution_count": null,
   "metadata": {
    "collapsed": true
   },
   "outputs": [],
   "source": []
  }
 ],
 "metadata": {
  "anaconda-cloud": {},
  "kernelspec": {
   "display_name": "Python [conda env:py3]",
   "language": "python",
   "name": "conda-env-py3-py"
  },
  "language_info": {
   "codemirror_mode": {
    "name": "ipython",
    "version": 3
   },
   "file_extension": ".py",
   "mimetype": "text/x-python",
   "name": "python",
   "nbconvert_exporter": "python",
   "pygments_lexer": "ipython3",
   "version": "3.5.2"
  }
 },
 "nbformat": 4,
 "nbformat_minor": 1
}
